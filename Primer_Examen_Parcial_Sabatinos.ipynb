{
  "nbformat": 4,
  "nbformat_minor": 0,
  "metadata": {
    "colab": {
      "name": "Primer_Examen_Parcial_Sabatinos",
      "provenance": [],
      "collapsed_sections": [],
      "authorship_tag": "ABX9TyP3rWCnhxiIBD9X5Zde/EDX",
      "include_colab_link": true
    },
    "kernelspec": {
      "name": "python3",
      "display_name": "Python 3"
    },
    "language_info": {
      "name": "python"
    }
  },
  "cells": [
    {
      "cell_type": "markdown",
      "metadata": {
        "id": "view-in-github",
        "colab_type": "text"
      },
      "source": [
        "<a href=\"https://colab.research.google.com/github/ErveyLopezC/Primer_Examen_Parcial_Sabatinos/blob/main/Primer_Examen_Parcial_Sabatinos.ipynb\" target=\"_parent\"><img src=\"https://colab.research.google.com/assets/colab-badge.svg\" alt=\"Open In Colab\"/></a>"
      ]
    },
    {
      "cell_type": "code",
      "source": [
        ""
      ],
      "metadata": {
        "id": "OB_1qgmFct6a"
      },
      "execution_count": null,
      "outputs": []
    },
    {
      "cell_type": "code",
      "source": [
        "n = int(input(\"La sumatoria de: \"))\n",
        "sumatoria = 0\n",
        "for numero in range(n):\n",
        "  sumatoria = sumatoria + (numero + 1)\n",
        "\n",
        "print(\"El resultado de la sumatoria es: \",sumatoria)"
      ],
      "metadata": {
        "colab": {
          "base_uri": "https://localhost:8080/"
        },
        "id": "76eaA7Z0hTDt",
        "outputId": "b1132f0a-e69c-43c1-934e-b07651dd2dfc"
      },
      "execution_count": null,
      "outputs": [
        {
          "output_type": "stream",
          "name": "stdout",
          "text": [
            "La sumatoria de: 30\n",
            "El resultado de la sumatoria es:  465\n"
          ]
        }
      ]
    },
    {
      "cell_type": "code",
      "source": [
        ""
      ],
      "metadata": {
        "id": "xMpwbHerqGQ8"
      },
      "execution_count": null,
      "outputs": []
    }
  ]
}